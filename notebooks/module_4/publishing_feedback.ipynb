{
 "cells": [
  {
   "cell_type": "markdown",
   "metadata": {},
   "source": "# Publicando Feedback"
  },
  {
   "cell_type": "markdown",
   "metadata": {},
   "source": "### Configuração"
  },
  {
   "cell_type": "code",
   "execution_count": null,
   "metadata": {},
   "outputs": [],
   "source": "# Você pode defini-las diretamente\nimport os\nos.environ[\"LANGSMITH_API_KEY\"] = \"\"\nos.environ[\"LANGSMITH_TRACING\"] = \"true\"\nos.environ[\"LANGSMITH_PROJECT\"] = \"langsmith-academy\""
  },
  {
   "cell_type": "code",
   "execution_count": null,
   "metadata": {},
   "outputs": [],
   "source": "# Ou você pode usar um arquivo .env\nfrom dotenv import load_dotenv\nload_dotenv(dotenv_path=\"../../.env\", override=True)"
  },
  {
   "cell_type": "markdown",
   "metadata": {},
   "source": "### Adicionando Feedback a uma Execução"
  },
  {
   "cell_type": "markdown",
   "metadata": {},
   "source": "Você pode adicionar feedback a uma Execução existente programaticamente, desde que conheça o run_id. Vamos pegar um run_id da UI do LangSmith e adicioná-lo aqui."
  },
  {
   "cell_type": "code",
   "execution_count": null,
   "metadata": {},
   "outputs": [],
   "source": [
    "run_id = \"\""
   ]
  },
  {
   "cell_type": "markdown",
   "metadata": {},
   "source": "Agora, vamos adicionar algum feedback contínuo"
  },
  {
   "cell_type": "code",
   "execution_count": null,
   "metadata": {},
   "outputs": [],
   "source": "from langsmith import Client\n\nclient = Client()\n\nclient.create_feedback(\n  run_id,\n  key=\"amostra-continua\",\n  score=7.0,\n  comment=\"Este é um exemplo de feedback contínuo\",\n)"
  },
  {
   "cell_type": "markdown",
   "metadata": {},
   "source": "E agora, vamos adicionar algum feedback categórico também!"
  },
  {
   "cell_type": "code",
   "execution_count": null,
   "metadata": {},
   "outputs": [],
   "source": "from langsmith import Client\n\nclient = Client()\n\nclient.create_feedback(\n  run_id,\n  key=\"amostra-categorica\",\n  value=\"não\",\n  comment=\"Este é um exemplo de feedback categórico\",\n)"
  },
  {
   "cell_type": "markdown",
   "metadata": {},
   "source": "### Pré-Gerando Run IDs para Feedback"
  },
  {
   "cell_type": "markdown",
   "metadata": {},
   "source": "![Generate_run_id](../../images/generate_run_id.png)\n\nUsando LangChain, oferecemos a capacidade de pré-gerar e definir run IDs, antes que seu código seja invocado e o run ID seja gerado. Com esta funcionalidade, você pode acessar seu run ID antes da geração inicial, o que pode ser útil para ações como enviar feedback. O exemplo abaixo demonstra isso."
  },
  {
   "cell_type": "code",
   "execution_count": null,
   "metadata": {},
   "outputs": [],
   "source": [
    "import uuid\n",
    "\n",
    "pre_defined_run_id = uuid.uuid4()\n",
    "pre_defined_run_id"
   ]
  },
  {
   "cell_type": "code",
   "execution_count": null,
   "metadata": {},
   "outputs": [],
   "source": "from langsmith import traceable\n\n@traceable\ndef foo():\n    return \"Esta é uma Execução de exemplo!\""
  },
  {
   "cell_type": "markdown",
   "metadata": {},
   "source": "Estamos passando uma config com nossa chamada de função através de `langsmith_extra` que contém nosso run_id pré-definido"
  },
  {
   "cell_type": "code",
   "execution_count": null,
   "metadata": {},
   "outputs": [],
   "source": [
    "foo(langsmith_extra={\"run_id\": pre_defined_run_id})"
   ]
  },
  {
   "cell_type": "markdown",
   "metadata": {},
   "source": "Agora podemos criar feedback diretamente nesta execução!"
  },
  {
   "cell_type": "code",
   "execution_count": null,
   "metadata": {},
   "outputs": [],
   "source": "from langsmith import Client\n\nclient = Client()\n\nclient.create_feedback(pre_defined_run_id, \"feedback_usuario\", score=1)"
  },
  {
   "cell_type": "markdown",
   "metadata": {},
   "source": "### URLs de Feedback Pré-assinadas"
  },
  {
   "cell_type": "markdown",
   "metadata": {},
   "source": "![presigned url](../../images/presigned_url.png)\n\nIsso também pode ser útil para URLs de feedback pré-assinadas. Você gostaria de usá-las quando não pode expor chaves de API ou outros segredos para o cliente, ex. em uma aplicação web. Usando um run_id pré-determinado, LangSmith tem um endpoint create_presigned_feedback_token que criará uma URL para enviar feedback, sem o uso de segredos necessários."
  },
  {
   "cell_type": "code",
   "execution_count": null,
   "metadata": {},
   "outputs": [],
   "source": [
    "pre_signed_url_id = uuid.uuid4()\n",
    "pre_signed_url_id"
   ]
  },
  {
   "cell_type": "code",
   "execution_count": null,
   "metadata": {},
   "outputs": [],
   "source": "pre_signed_url = client.create_presigned_feedback_token(pre_signed_url_id, \"feedback_usuario_pre_assinado\")\n\nprint(pre_signed_url)"
  },
  {
   "cell_type": "markdown",
   "metadata": {},
   "source": "Aqui, podemos ver que mesmo que ainda não tenhamos criado uma execução, ainda somos capazes de gerar a URL de feedback.\n\nAgora, vamos invocar nossa cadeia para que a execução com aquele ID seja criada:"
  },
  {
   "cell_type": "code",
   "execution_count": null,
   "metadata": {},
   "outputs": [],
   "source": [
    "foo(langsmith_extra={\"run_id\": pre_signed_url_id})"
   ]
  },
  {
   "cell_type": "markdown",
   "metadata": {},
   "source": "Então, uma vez que nossa execução é criada, podemos usar a URL de feedback para enviar feedback:"
  },
  {
   "cell_type": "code",
   "execution_count": null,
   "metadata": {},
   "outputs": [],
   "source": "import requests\n\nurl_with_score = f\"{pre_signed_url.url}?score=1\"\n\nresponse = requests.get(url_with_score)\n\nif response.status_code >= 200 and response.status_code < 300:\n    print(\"Feedback enviado com sucesso!\")\nelse:\n    print(\"Falha no envio do feedback!\")"
  }
 ],
 "metadata": {
  "kernelspec": {
   "display_name": "ls-academy",
   "language": "python",
   "name": "python3"
  },
  "language_info": {
   "codemirror_mode": {
    "name": "ipython",
    "version": 3
   },
   "file_extension": ".py",
   "mimetype": "text/x-python",
   "name": "python",
   "nbconvert_exporter": "python",
   "pygments_lexer": "ipython3",
   "version": "3.9.6"
  }
 },
 "nbformat": 4,
 "nbformat_minor": 4
}