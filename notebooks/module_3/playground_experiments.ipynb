{
 "cells": [
  {
   "cell_type": "markdown",
   "metadata": {},
   "source": "# Executar Experimentos no Playground"
  },
  {
   "cell_type": "markdown",
   "metadata": {},
   "source": "### Configuração"
  },
  {
   "cell_type": "code",
   "execution_count": null,
   "metadata": {},
   "outputs": [],
   "source": "# Você pode defini-las diretamente\nimport os\nos.environ[\"LANGSMITH_API_KEY\"] = \"\""
  },
  {
   "cell_type": "code",
   "execution_count": null,
   "metadata": {},
   "outputs": [],
   "source": "# Ou você pode usar um arquivo .env\nfrom dotenv import load_dotenv\nload_dotenv(dotenv_path=\"../../.env\", override=True)"
  },
  {
   "cell_type": "markdown",
   "metadata": {},
   "source": "### Criar um Dataset"
  },
  {
   "cell_type": "markdown",
   "metadata": {},
   "source": "Vamos criar um dataset de exemplo simples para executar experimentos sobre um prompt"
  },
  {
   "cell_type": "code",
   "execution_count": null,
   "metadata": {},
   "outputs": [],
   "source": "from langsmith import Client\n\nexample_inputs = [\n(\"Qual é a cor do céu?\", \"O céu é azul\"),\n(\"Qual é a cor da grama?\", \"A grama é verde\"),\n(\"Qual é a cor da terra?\", \"A terra é marrom\"),\n]\n\nclient = Client()\ndataset_name = \"Perguntas de Exemplo\"\n\ndataset = client.create_dataset(\n  dataset_name=dataset_name, description=\"Perguntas de exemplo sobre cores\",\n)\n\ninputs = [{\"question\": input_prompt} for input_prompt, _ in example_inputs]\noutputs = [{\"output\": output_answer} for _, output_answer in example_inputs]\n\nclient.create_examples(\n  inputs=inputs,\n  outputs=outputs,\n  dataset_id=dataset.id,\n)"
  }
 ],
 "metadata": {
  "kernelspec": {
   "display_name": "ls-academy",
   "language": "python",
   "name": "python3"
  },
  "language_info": {
   "codemirror_mode": {
    "name": "ipython",
    "version": 3
   },
   "file_extension": ".py",
   "mimetype": "text/x-python",
   "name": "python",
   "nbconvert_exporter": "python",
   "pygments_lexer": "ipython3",
   "version": "3.9.6"
  }
 },
 "nbformat": 4,
 "nbformat_minor": 4
}