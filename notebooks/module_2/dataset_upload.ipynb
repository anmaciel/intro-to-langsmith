{
 "cells": [
  {
   "cell_type": "markdown",
   "metadata": {},
   "source": "# Upload de Dataset"
  },
  {
   "cell_type": "markdown",
   "metadata": {},
   "source": "Além de criar e editar Datasets na UI do LangSmith, você também pode criar e editar datasets com o SDK do LangSmith."
  },
  {
   "cell_type": "markdown",
   "metadata": {},
   "source": "Vamos fazer o upload de uma lista de exemplos que temos de nossa aplicação RAG para o LangSmith como um novo dataset."
  },
  {
   "cell_type": "code",
   "execution_count": null,
   "metadata": {},
   "outputs": [],
   "source": "# Você pode defini-las diretamente\nimport os\nos.environ[\"GOOGLE_API_KEY\"] = \"\"\nos.environ[\"LANGSMITH_API_KEY\"] = \"\"\nos.environ[\"LANGSMITH_TRACING\"] = \"true\"\nos.environ[\"LANGSMITH_PROJECT\"] = \"langsmith-academy\""
  },
  {
   "cell_type": "code",
   "execution_count": null,
   "metadata": {},
   "outputs": [],
   "source": "# Ou você pode usar um arquivo .env\nfrom dotenv import load_dotenv\nload_dotenv(dotenv_path=\"../../.env\", override=True)"
  },
  {
   "cell_type": "code",
   "execution_count": null,
   "metadata": {},
   "outputs": [],
   "source": "from langsmith import Client\n\nexample_inputs = [\n(\"Como configurar rastreamento para LangSmith se estou usando LangChain?\", \"Para configurar rastreamento para LangSmith enquanto usa LangChain, você precisa definir a variável de ambiente `LANGSMITH_TRACING` como 'true'. Além disso, você deve definir a variável de ambiente `LANGSMITH_API_KEY` com sua chave de API. Por padrão, os rastreamentos serão registrados em um projeto chamado \\\"default.\\\"\"),\n(\"Como posso rastrear com o decorador @traceable?\", \"Para rastrear com o decorador @traceable em Python, simplesmente decore qualquer função que você queira registrar rastreamentos adicionando `@traceable` acima da definição da função. Certifique-se de que a variável de ambiente LANGSMITH_TRACING esteja definida como 'true' para habilitar o rastreamento, e também defina a variável de ambiente LANGSMITH_API_KEY com sua chave de API. Por padrão, os rastreamentos serão registrados em um projeto chamado \\\"default\\\", mas você pode configurá-lo para registrar em um projeto diferente se necessário.\"),\n(\"Como passo metadados com @traceable?\", \"Você pode passar metadados com o decorador @traceable especificando pares chave-valor arbitrários como argumentos. Isso permite associar informações adicionais, como o ambiente de execução ou detalhes do usuário, com seus rastreamentos. Para instruções mais detalhadas, consulte a documentação do LangSmith sobre adicionar metadados e tags.\"),\n(\"Para que é usado o LangSmith em três frases?\", \"LangSmith é uma plataforma projetada para o desenvolvimento, monitoramento e teste de aplicações LLM. Ela permite que usuários coletam e analisem dados não estruturados, depurem problemas e criem datasets para teste e avaliação. A ferramenta suporta vários fluxos de trabalho ao longo do ciclo de vida de desenvolvimento da aplicação, melhorando o desempenho geral e a confiabilidade das aplicações LLM.\"),\n(\"Que capacidades de teste o LangSmith tem?\", \"LangSmith oferece capacidades para criar datasets de entradas e saídas de referência para executar testes em aplicações LLM, suportando uma abordagem orientada a testes. Ele permite uploads em lote de casos de teste, criação dinâmica e exportação de rastreamentos de aplicação. Além disso, LangSmith facilita avaliações personalizadas para pontuar resultados de teste, melhorando o processo de teste.\"),\n(\"O LangSmith suporta avaliação online?\", \"Sim, LangSmith suporta avaliação online como um recurso. Ele permite configurar uma amostra de execuções da produção para serem avaliadas, fornecendo feedback sobre essas execuções. Você pode usar código personalizado ou um LLM como juiz para as avaliações.\"),\n(\"O LangSmith suporta avaliação offline?\", \"Sim, LangSmith suporta avaliação offline através de seus guias de como fazer avaliação e recursos para gerenciar datasets. Usuários podem gerenciar datasets para avaliações offline e executar vários tipos de avaliações, incluindo testes unitários e auto-avaliação. Isso permite testes abrangentes e melhoria de aplicações LLM.\"),\n(\"O LangSmith pode ser usado para fine-tuning e treinamento de modelos?\", \"Sim, LangSmith pode ser usado para fine-tuning e treinamento de modelos. Ele permite capturar rastreamentos de execução de sua implantação, consultar e filtrar esses dados, e convertê-los em um formato adequado para fine-tuning de modelos. Além disso, você pode criar datasets de treinamento para acompanhar os dados usados para treinamento de modelos.\"),\n(\"O LangSmith pode ser usado para avaliar agentes?\", \"Sim, LangSmith pode ser usado para avaliar agentes. Ele fornece várias estratégias de avaliação, incluindo avaliar a resposta final do agente, avaliar passos individuais e analisar a trajetória de chamadas de ferramentas. Esses métodos ajudam a garantir a eficácia das aplicações LLM.\"),\n(\"Como criar feedback de usuário com o sdk do LangSmith?\", \"Para criar feedback de usuário com o SDK do LangSmith, você primeiro precisa executar sua aplicação e obter o `run_id`. Então, você pode usar o método `create_feedback`, fornecendo o `run_id`, uma chave de feedback, uma pontuação e um comentário opcional. Por exemplo, em Python, ficaria assim: `client.create_feedback(run_id, key=\\\"feedback-key\\\", score=1.0, comment=\\\"comment\\\")`.\"),\n]\n\nclient = Client()\n# TODO: Preencher o id do dataset\ndataset_id = \"\"\n\n# Preparar entradas e saídas para criação em lote\ninputs = [{\"question\": input_prompt} for input_prompt, _ in example_inputs]\noutputs = [{\"output\": output_answer} for _, output_answer in example_inputs]\n\nclient.create_examples(\n  inputs=inputs,\n  outputs=outputs,\n  dataset_id=dataset_id,\n)"
  },
  {
   "cell_type": "markdown",
   "metadata": {},
   "source": "## Enviando outro Rastreamento"
  },
  {
   "cell_type": "markdown",
   "metadata": {},
   "source": "Movi nossa definição de aplicação RAG para `app.py` para que possamos importá-la rapidamente."
  },
  {
   "cell_type": "code",
   "execution_count": null,
   "metadata": {},
   "outputs": [],
   "source": [
    "from app import langsmith_rag"
   ]
  },
  {
   "cell_type": "markdown",
   "metadata": {},
   "source": "Vamos fazer outra pergunta para criar um novo rastreamento!"
  },
  {
   "cell_type": "code",
   "execution_count": null,
   "metadata": {},
   "outputs": [],
   "source": "question = \"Como configurar rastreamento para LangSmith se estou usando LangChain?\"\nlangsmith_rag(question)"
  }
 ],
 "metadata": {
  "kernelspec": {
   "display_name": "ls-academy",
   "language": "python",
   "name": "python3"
  },
  "language_info": {
   "codemirror_mode": {
    "name": "ipython",
    "version": 3
   },
   "file_extension": ".py",
   "mimetype": "text/x-python",
   "name": "python",
   "nbconvert_exporter": "python",
   "pygments_lexer": "ipython3",
   "version": "3.9.6"
  }
 },
 "nbformat": 4,
 "nbformat_minor": 4
}